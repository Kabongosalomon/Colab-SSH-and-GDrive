{
  "nbformat": 4,
  "nbformat_minor": 0,
  "metadata": {
    "colab": {
      "name": "ssh_colab",
      "provenance": [],
      "collapsed_sections": []
    },
    "kernelspec": {
      "name": "python3",
      "display_name": "Python 3"
    },
    "accelerator": "GPU"
  },
  "cells": [
    {
      "cell_type": "code",
      "metadata": {
        "id": "14DOYrqKibsO",
        "colab_type": "code",
        "colab": {}
      },
      "source": [
        "###################################################################\n",
        "# Install all the preferred environment utilities and dependencies\n",
        "# For GPU: Runtime -> Change runtime type -> Select GPU\n",
        "###################################################################\n",
        "\n",
        "!apt-get install vim\n",
        "!apt-get install tree\n",
        "!git clone https://github.com/chentinghao/download_google_drive.git\n",
        "\n",
        "\n",
        "!nvidia-smi"
      ],
      "execution_count": 0,
      "outputs": []
    },
    {
      "cell_type": "code",
      "metadata": {
        "id": "RBwyz2gab_l6",
        "colab_type": "code",
        "colab": {}
      },
      "source": [
        "################################################################\n",
        "# Important step if you want to save your progress.\n",
        "# cd to the project directory inside your gdrive and work there\n",
        "# cd /content/gdrive/My Drive/'\n",
        "################################################################\n",
        "\n",
        "from google.colab import drive\n",
        "drive.mount('/content/gdrive/')"
      ],
      "execution_count": 0,
      "outputs": []
    },
    {
      "cell_type": "code",
      "metadata": {
        "id": "-niRwUjS7oBx",
        "colab_type": "code",
        "colab": {}
      },
      "source": [
        "################################################################\n",
        "# Download ngrok and run\n",
        "# Required: ngrok token & public key of your local machine\n",
        "################################################################\n",
        "\n",
        "!wget https://gist.githubusercontent.com/archie9211/ae3c8411da88ae8b2a05b0ee1a4fd412/raw/ee1a6e78fc498ad6d4830cd2eb6033839235ea8a/colab-ssh-jupyter.sh\n",
        "!bash colab-ssh-jupyter.sh"
      ],
      "execution_count": 0,
      "outputs": []
    }
  ]
}