{
  "nbformat": 4,
  "nbformat_minor": 0,
  "metadata": {
    "accelerator": "GPU",
    "colab": {
      "name": "CUDA_GPU-server.ipynb",
      "provenance": [],
      "collapsed_sections": [],
      "machine_shape": "hm",
      "include_colab_link": true
    },
    "kernelspec": {
      "display_name": "Python 3",
      "language": "python",
      "name": "python3"
    },
    "language_info": {
      "codemirror_mode": {
        "name": "ipython",
        "version": 3
      },
      "file_extension": ".py",
      "mimetype": "text/x-python",
      "name": "python",
      "nbconvert_exporter": "python",
      "pygments_lexer": "ipython3",
      "version": "3.7.4"
    }
  },
  "cells": [
    {
      "cell_type": "markdown",
      "metadata": {
        "id": "view-in-github",
        "colab_type": "text"
      },
      "source": [
        "<a href=\"https://colab.research.google.com/github/Kabongosalomon/Colab-SSH-and-GDrive/blob/master/CUDA_GPU_server.ipynb\" target=\"_parent\"><img src=\"https://colab.research.google.com/assets/colab-badge.svg\" alt=\"Open In Colab\"/></a>"
      ]
    },
    {
      "cell_type": "markdown",
      "metadata": {
        "colab_type": "text",
        "id": "7KYvm7elVabs"
      },
      "source": [
        "# CUDA_GPU_server\n",
        "\n",
        "Make surre to use : GPU runtime mode (Runtime->Change Runtime type -> python3 + GPU\n",
        ")\n",
        "\n"
      ]
    },
    {
      "cell_type": "code",
      "metadata": {
        "colab_type": "code",
        "id": "-nwY1_gYVcpc",
        "colab": {
          "base_uri": "https://localhost:8080/",
          "height": 425
        },
        "outputId": "98c649b2-e335-4c30-cccf-8983828caf93"
      },
      "source": [
        "# Check nvidia and nvcc cuda compiler\n",
        "\n",
        "!nvidia-smi\n",
        "!/usr/local/cuda/bin/nvcc --version"
      ],
      "execution_count": 1,
      "outputs": [
        {
          "output_type": "stream",
          "text": [
            "Thu Jun 18 20:40:33 2020       \n",
            "+-----------------------------------------------------------------------------+\n",
            "| NVIDIA-SMI 450.36.06    Driver Version: 418.67       CUDA Version: 10.1     |\n",
            "|-------------------------------+----------------------+----------------------+\n",
            "| GPU  Name        Persistence-M| Bus-Id        Disp.A | Volatile Uncorr. ECC |\n",
            "| Fan  Temp  Perf  Pwr:Usage/Cap|         Memory-Usage | GPU-Util  Compute M. |\n",
            "|                               |                      |               MIG M. |\n",
            "|===============================+======================+======================|\n",
            "|   0  Tesla P100-PCIE...  Off  | 00000000:00:04.0 Off |                    0 |\n",
            "| N/A   35C    P0    26W / 250W |      0MiB / 16280MiB |      0%      Default |\n",
            "|                               |                      |                 ERR! |\n",
            "+-------------------------------+----------------------+----------------------+\n",
            "                                                                               \n",
            "+-----------------------------------------------------------------------------+\n",
            "| Processes:                                                                  |\n",
            "|  GPU   GI   CI        PID   Type   Process name                  GPU Memory |\n",
            "|        ID   ID                                                   Usage      |\n",
            "|=============================================================================|\n",
            "|  No running processes found                                                 |\n",
            "+-----------------------------------------------------------------------------+\n",
            "nvcc: NVIDIA (R) Cuda compiler driver\n",
            "Copyright (c) 2005-2019 NVIDIA Corporation\n",
            "Built on Sun_Jul_28_19:07:16_PDT_2019\n",
            "Cuda compilation tools, release 10.1, V10.1.243\n"
          ],
          "name": "stdout"
        }
      ]
    },
    {
      "cell_type": "markdown",
      "metadata": {
        "colab_type": "text",
        "id": "FT66Rd6yV3ib"
      },
      "source": [
        "# Mount Goolge Drive"
      ]
    },
    {
      "cell_type": "code",
      "metadata": {
        "colab_type": "code",
        "id": "tUCE2A_DVeMe",
        "colab": {
          "base_uri": "https://localhost:8080/",
          "height": 122
        },
        "outputId": "0711cabd-5754-4a16-d581-49c6a70de1b0"
      },
      "source": [
        "# link to google drive, click on the given link and choose the google drive account you would like to be available to you \n",
        "\n",
        "from google.colab import drive\n",
        "drive.mount('/content/gdrive/')"
      ],
      "execution_count": 3,
      "outputs": [
        {
          "output_type": "stream",
          "text": [
            "Go to this URL in a browser: https://accounts.google.com/o/oauth2/auth?client_id=947318989803-6bn6qk8qdgf4n4g3pfee6491hc0brc4i.apps.googleusercontent.com&redirect_uri=urn%3aietf%3awg%3aoauth%3a2.0%3aoob&response_type=code&scope=email%20https%3a%2f%2fwww.googleapis.com%2fauth%2fdocs.test%20https%3a%2f%2fwww.googleapis.com%2fauth%2fdrive%20https%3a%2f%2fwww.googleapis.com%2fauth%2fdrive.photos.readonly%20https%3a%2f%2fwww.googleapis.com%2fauth%2fpeopleapi.readonly\n",
            "\n",
            "Enter your authorization code:\n",
            "··········\n",
            "Mounted at /content/gdrive/\n"
          ],
          "name": "stdout"
        }
      ]
    },
    {
      "cell_type": "code",
      "metadata": {
        "colab_type": "code",
        "id": "7j2NLxcrV9hj",
        "colab": {
          "base_uri": "https://localhost:8080/",
          "height": 1000
        },
        "outputId": "25589981-b134-4502-8e55-36424e64f0d4"
      },
      "source": [
        "#check that Gdrive is mounted\n",
        "\n",
        "!ls '/content/gdrive/My Drive/'"
      ],
      "execution_count": 4,
      "outputs": [
        {
          "output_type": "stream",
          "text": [
            " 46282124079-774315929-ticket.pdf\n",
            " 99e38350-761a-47f1-91e4-d8cb71d51ebd.MP4\n",
            "'AIMS Acceptance letter 2018-19 - Salomon Kabenamualu KABONGO.pdf'\n",
            "'Android Advanced Course slides'\n",
            "'Android Advanced Course slides (1)'\n",
            "'Android Developer #7DaysofCodeChallenge.gdoc'\n",
            "'Application Windows'\n",
            "'August 2018 I-20 Handbook.doc.gdoc'\n",
            " Church\n",
            " CIA\n",
            " CIa_WPLS\n",
            "'Colab Notebooks'\n",
            " cv-KABONGO-Salomon.pdf\n",
            " Documents\n",
            "'Dv et immigration'\n",
            " eclipse-workspace\n",
            "'English and COmmunication skills AMMI Group.gdoc'\n",
            " Errata.pdf\n",
            " ETS\n",
            " fastai\n",
            "'Feuilles de garde'\n",
            "'Frontiers in Natural Language Processing Expert Responses.gdoc'\n",
            " Graduation\n",
            " IMG_0771.mp4\n",
            " Kabongo.pdf\n",
            "'Learning English'\n",
            "'Learning English - Copy'\n",
            "'Le puzzle de Dieu.mp3'\n",
            " logo_eat_it.png\n",
            "'Machine Learning en Francais.gsheet'\n",
            " main.pdf\n",
            " masakhane\n",
            "'MASTERS FEES STRUCTURE.pdf'\n",
            "'Mathematics of Deep Learning.pdf'\n",
            " my_bg.jpg\n",
            "'New folder'\n",
            " NLP.gdoc\n",
            "'Odoo 11 Tour - Ticket.pdf'\n",
            "'Other Questions.pdf'\n",
            " Others\n",
            "'Photos voyages'\n",
            " Pictures\n",
            "'Preparing Interview .gdoc'\n",
            "'Prospective Post Grad Guide.gdoc'\n",
            "'Salomon Android Intermediates Progress Folder'\n",
            "'Salomon evidence 1.png'\n",
            "'Salomon evidence 2.png'\n",
            "'Salomon evidence 3.png'\n",
            " salomon.jpg\n",
            "'Salomon Pict 1 - Apostle salomon kabongo.JPG'\n",
            "'Salomon Pict 1.JPG'\n",
            " Scholarship\n",
            " Screenshots\n",
            "'SPAIC Local Meetup Toolkit.gdoc'\n",
            "'TOEFL VOL4.pdf'\n",
            "'Translated copy of Course Apps Setup.gdoc'\n",
            "'Translated copy of Introduction.gdoc'\n",
            "'Travel Reservation August 17 for MR SALOMON KABENAMUALU KABONGO.pdf'\n",
            "'UBER CLONE ASSETS'\n",
            " ubuntu\n",
            "'Untitled document.gdoc'\n",
            "'URGENT URGENT TP jusque ce samedi a 23h59.docx'\n"
          ],
          "name": "stdout"
        }
      ]
    },
    {
      "cell_type": "markdown",
      "metadata": {
        "colab_type": "text",
        "id": "Ftyme-AIYFgK"
      },
      "source": [
        "#Setup SSH port forwarding"
      ]
    },
    {
      "cell_type": "code",
      "metadata": {
        "colab_type": "code",
        "id": "C0t3EVVaWbUJ",
        "colab": {
          "base_uri": "https://localhost:8080/",
          "height": 255
        },
        "outputId": "1ae78256-14b1-4648-de13-0bf7cc4d301a"
      },
      "source": [
        "#1 - setup ssh/user \n",
        "\n",
        "\n",
        "#Generate a random root password\n",
        "import random, string\n",
        "password = ''.join(random.choice(string.ascii_letters + string.digits) for i in range(30))\n",
        "\n",
        "\n",
        "#Setup sshd\n",
        "! apt-get install -qq -o=Dpkg::Use-Pty=0 openssh-server pwgen > /dev/null\n",
        "\n",
        "#Set root password\n",
        "! echo root:$password | chpasswd\n",
        "! mkdir -p /var/run/sshd\n",
        "! echo \"PermitRootLogin yes\" >> /etc/ssh/sshd_config\n",
        "! echo \"PasswordAuthentication yes\" >> /etc/ssh/sshd_config\n",
        "\n",
        "print(\"username: root\")\n",
        "print(\"password: \", password)\n",
        "\n",
        "#Run sshd\n",
        "get_ipython().system_raw('/usr/sbin/sshd -D &')"
      ],
      "execution_count": 5,
      "outputs": [
        {
          "output_type": "stream",
          "text": [
            "\n",
            "Creating config file /etc/ssh/sshd_config with new version\n",
            "Creating SSH2 RSA key; this may take some time ...\n",
            "2048 SHA256:7Y0aTJ1EnvRpkJGH+LT6cKmgnV0Wr6BAdjYX1hLsTLg root@3e5ea764d659 (RSA)\n",
            "Creating SSH2 ECDSA key; this may take some time ...\n",
            "256 SHA256:NoAS77hISZnHN5sJQcRuySaAhOpnghPmw5cFlqFEWio root@3e5ea764d659 (ECDSA)\n",
            "Creating SSH2 ED25519 key; this may take some time ...\n",
            "256 SHA256:mbmjVW3BnjYtU+olB5HrEd9FlUKu3nRtIpbWOAzktrI root@3e5ea764d659 (ED25519)\n",
            "Created symlink /etc/systemd/system/sshd.service → /lib/systemd/system/ssh.service.\n",
            "Created symlink /etc/systemd/system/multi-user.target.wants/ssh.service → /lib/systemd/system/ssh.service.\n",
            "invoke-rc.d: could not determine current runlevel\n",
            "invoke-rc.d: policy-rc.d denied execution of start.\n",
            "username: root\n",
            "password:  5NNR1A7YVBHsQLbpmHzBgTrksv3Rtc\n"
          ],
          "name": "stdout"
        }
      ]
    },
    {
      "cell_type": "code",
      "metadata": {
        "colab_type": "code",
        "id": "H_1iQGAtYvCq",
        "colab": {}
      },
      "source": [
        "# 2 - Download Ngrok\n",
        "\n",
        "! wget -q -c -nc https://bin.equinox.io/c/4VmDzA7iaHb/ngrok-stable-linux-amd64.zip\n",
        "! unzip -qq -n ngrok-stable-linux-amd64.zip"
      ],
      "execution_count": 6,
      "outputs": []
    },
    {
      "cell_type": "code",
      "metadata": {
        "colab_type": "code",
        "id": "68P192JwZBtF",
        "colab": {
          "base_uri": "https://localhost:8080/",
          "height": 51
        },
        "outputId": "ec146769-a6c7-40c9-9e9d-6b8ff47742a7"
      },
      "source": [
        "# 3 - setup Ngrok - authtoken\n",
        "\n",
        "#Ask token\n",
        "print(\"Get your authtoken from https://dashboard.ngrok.com/auth\")\n",
        "import getpass\n",
        "authtoken = getpass.getpass()\n",
        "\n",
        "#Create tunnel\n",
        "get_ipython().system_raw('./ngrok authtoken $authtoken && ./ngrok tcp 22 &') # 1bVLy1kHkmWRqmhUEeEoDrUKech_6sRTcUMqizbwwFXt9mtMS "
      ],
      "execution_count": 7,
      "outputs": [
        {
          "output_type": "stream",
          "text": [
            "Get your authtoken from https://dashboard.ngrok.com/auth\n",
            "··········\n"
          ],
          "name": "stdout"
        }
      ]
    },
    {
      "cell_type": "markdown",
      "metadata": {
        "colab_type": "text",
        "id": "N5sGgljXaTjL"
      },
      "source": [
        "Congratulations, you are ready to go. \n",
        "On Ngrok interface https://dashboard.ngrok.com/status you'll find the tcp address and the port \n",
        "\n",
        "connect using the following : \n",
        "\n",
        "```\n",
        "ssh root@0.tcp.ngrok.io -p [ngrok_port]\n",
        "\n",
        "> then enter the password generated previously\n",
        "\n",
        "```"
      ]
    },
    {
      "cell_type": "markdown",
      "metadata": {
        "id": "9NGamCszAg7D",
        "colab_type": "text"
      },
      "source": [
        "# code to be run on the local computer\n",
        "```\n",
        "ssh root@0.tcp.ngrok.io -p 13276 #ngrok_port #19455\n",
        "\n",
        "sudo apt-get install tmux && pip3 install jupyterlab && tmux\n",
        "\n",
        "\n",
        "jupyter lab --ip 0.0.0.0 --no-browser --allow-root\n",
        "\n",
        "ctrl+b + shift+\"\n",
        "\n",
        "ssh -R localhost:80:localhost:8888 jupyterlab@ssh.localhost.run\n",
        "```"
      ]
    },
    {
      "cell_type": "code",
      "metadata": {
        "colab_type": "code",
        "id": "dRku1cidyfoE",
        "colab": {}
      },
      "source": [
        "# jupyter lab --ip 0.0.0.0 --port 56784\n",
        "\n",
        "# ssh -R 80:localhost:56784 jupyterlab@ssh.localhost.run"
      ],
      "execution_count": null,
      "outputs": []
    },
    {
      "cell_type": "markdown",
      "metadata": {
        "id": "jFKDhq92DH2b",
        "colab_type": "text"
      },
      "source": [
        "You can optionally use the following code to get some details information about your GPU. \n",
        "\n",
        "```\n",
        "# make nvidia run on colab\n",
        "export LD_PRELOAD=/usr/lib64-nvidia/libnvidia-ml.so\n",
        "watch -n 1 nvidia-smi # GPU info \n",
        "```\n",
        "\n",
        "and the following if you're planning running some git commands. \n",
        "\n",
        "```\n",
        "git config --global user.email \"salomon@aims.ac.za\"\n",
        "git config --global user.name \"Colab Jupyterlab\"\n",
        "```\n",
        "\n",
        "<font color='red'>Lastly and most importantly, put the follwoing code in the console of the develloper mode(`Ctrl+Shift+i`) of your navigator to keep the Colab session opening as much as possible</font>\n",
        "\n",
        "```\n",
        "function ConnectButton(){\n",
        "    console.log(\"Connect pushed\"); \n",
        "    document.querySelector(\"#top-toolbar > colab-connect-button\").shadowRoot.querySelector(\"#connect\").click() \n",
        "}\n",
        "setInterval(ConnectButton,60000);\n",
        "```"
      ]
    },
    {
      "cell_type": "markdown",
      "metadata": {
        "id": "8pe6dU9OA32t",
        "colab_type": "text"
      },
      "source": [
        "<font color='red'>Please remember to run the cell below when you're done. This is neccesary to kill the Ngrok tunel</font>"
      ]
    },
    {
      "cell_type": "code",
      "metadata": {
        "colab_type": "code",
        "id": "ACzGZ2_MaSQi",
        "colab": {
          "base_uri": "https://localhost:8080/",
          "height": 34
        },
        "outputId": "15164c4e-bc60-429b-f275-32096fc2b23a"
      },
      "source": [
        "# When done, kill Ngrok\n",
        "\n",
        "!kill $(ps aux | grep './ngrok' | awk '{print $2}')"
      ],
      "execution_count": null,
      "outputs": [
        {
          "output_type": "stream",
          "text": [
            "^C\n"
          ],
          "name": "stdout"
        }
      ]
    },
    {
      "cell_type": "code",
      "metadata": {
        "colab_type": "code",
        "id": "t5q2IwF651ce",
        "colab": {}
      },
      "source": [
        ""
      ],
      "execution_count": null,
      "outputs": []
    },
    {
      "cell_type": "markdown",
      "metadata": {
        "colab_type": "text",
        "id": "W6KvAOdEG2MJ"
      },
      "source": [
        "<h1>About the Author:</h1> \n",
        "\n",
        "<a href=\"https://skabongo.github.io/\">Salomon Kabongo</a>, Master degree student at <a href=\"https://aimsammi.org/\">the African Master in Machine Intelligence (AMMI, Ghana)</a> his research focused on the use machine learning technique in the field of Natural Language Processing, learn more about him [here](https://skabongo.github.io/) or [twitter](https://twitter.com/SalomonKabongo1).\n",
        "\n",
        "**References :** \n",
        "- https://imadelhanafi.com/posts/google_colal_server/<br>\n",
        "- https://medium.com/@archie9211/guide-to-connect-to-google-colab-with-ssh-from-terminal-and-run-jupyter-lab-7ed60258368 <br>\n",
        "- https://github.com/vdivakar/Colab-SSH-and-GDrive\n",
        "\n",
        "Copyright &copy; 2020. This notebook and its source code are released under the terms of the <a href=\"https://www.apache.org/licenses/LICENSE-2.0\">Apache License 2.0</a>."
      ]
    }
  ]
}