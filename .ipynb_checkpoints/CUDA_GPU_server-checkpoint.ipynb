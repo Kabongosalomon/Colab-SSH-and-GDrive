{
 "cells": [
  {
   "cell_type": "markdown",
   "metadata": {
    "colab_type": "text",
    "id": "7KYvm7elVabs"
   },
   "source": [
    "# CUDA_GPU_server\n",
    "\n",
    "Make surre to use : GPU runtime mode (Runtime->Change Runtime type -> python3 + GPU\n",
    ")\n",
    "\n"
   ]
  },
  {
   "cell_type": "code",
   "execution_count": 2,
   "metadata": {
    "colab": {
     "base_uri": "https://localhost:8080/",
     "height": 374
    },
    "colab_type": "code",
    "id": "-nwY1_gYVcpc",
    "outputId": "9966781a-0f3a-4be8-e0f9-59b73bdcb567"
   },
   "outputs": [
    {
     "name": "stdout",
     "output_type": "stream",
     "text": [
      "Sun May 24 14:34:59 2020       \n",
      "+-----------------------------------------------------------------------------+\n",
      "| NVIDIA-SMI 440.82       Driver Version: 418.67       CUDA Version: 10.1     |\n",
      "|-------------------------------+----------------------+----------------------+\n",
      "| GPU  Name        Persistence-M| Bus-Id        Disp.A | Volatile Uncorr. ECC |\n",
      "| Fan  Temp  Perf  Pwr:Usage/Cap|         Memory-Usage | GPU-Util  Compute M. |\n",
      "|===============================+======================+======================|\n",
      "|   0  Tesla P100-PCIE...  Off  | 00000000:00:04.0 Off |                    0 |\n",
      "| N/A   40C    P0    26W / 250W |      0MiB / 16280MiB |      0%      Default |\n",
      "+-------------------------------+----------------------+----------------------+\n",
      "                                                                               \n",
      "+-----------------------------------------------------------------------------+\n",
      "| Processes:                                                       GPU Memory |\n",
      "|  GPU       PID   Type   Process name                             Usage      |\n",
      "|=============================================================================|\n",
      "|  No running processes found                                                 |\n",
      "+-----------------------------------------------------------------------------+\n",
      "nvcc: NVIDIA (R) Cuda compiler driver\n",
      "Copyright (c) 2005-2019 NVIDIA Corporation\n",
      "Built on Sun_Jul_28_19:07:16_PDT_2019\n",
      "Cuda compilation tools, release 10.1, V10.1.243\n"
     ]
    }
   ],
   "source": [
    "# Check nvidia and nvcc cuda compiler\n",
    "\n",
    "!nvidia-smi\n",
    "!/usr/local/cuda/bin/nvcc --version"
   ]
  },
  {
   "cell_type": "markdown",
   "metadata": {
    "colab_type": "text",
    "id": "FT66Rd6yV3ib"
   },
   "source": [
    "# Mount Goolge Drive"
   ]
  },
  {
   "cell_type": "code",
   "execution_count": null,
   "metadata": {
    "colab": {
     "base_uri": "https://localhost:8080/",
     "height": 122
    },
    "colab_type": "code",
    "id": "tUCE2A_DVeMe",
    "outputId": "078025ae-a19a-4c42-b6f8-743fb4ef67c5"
   },
   "outputs": [
    {
     "name": "stdout",
     "output_type": "stream",
     "text": [
      "Go to this URL in a browser: https://accounts.google.com/o/oauth2/auth?client_id=947318989803-6bn6qk8qdgf4n4g3pfee6491hc0brc4i.apps.googleusercontent.com&redirect_uri=urn%3aietf%3awg%3aoauth%3a2.0%3aoob&response_type=code&scope=email%20https%3a%2f%2fwww.googleapis.com%2fauth%2fdocs.test%20https%3a%2f%2fwww.googleapis.com%2fauth%2fdrive%20https%3a%2f%2fwww.googleapis.com%2fauth%2fdrive.photos.readonly%20https%3a%2f%2fwww.googleapis.com%2fauth%2fpeopleapi.readonly\n",
      "\n",
      "Enter your authorization code:\n",
      "··········\n",
      "Mounted at /content/gdrive/\n"
     ]
    }
   ],
   "source": [
    "# link to google drive\n",
    "\n",
    "from google.colab import drive\n",
    "drive.mount('/content/gdrive/')\n"
   ]
  },
  {
   "cell_type": "code",
   "execution_count": null,
   "metadata": {
    "colab": {
     "base_uri": "https://localhost:8080/",
     "height": 85
    },
    "colab_type": "code",
    "id": "7j2NLxcrV9hj",
    "outputId": "879c6219-2053-4ac0-b5e1-5909390188f2"
   },
   "outputs": [
    {
     "name": "stdout",
     "output_type": "stream",
     "text": [
      " cassava_disease_classification         shuttle.zip\n",
      " data.zip\t\t\t        TED_Speech_Translation_Data\n",
      " icassava-2019-cadene-models_89.ipynb   tut6-model.pt\n",
      "'Msc thesis'\t\t\t       'Tweet Sentiment Extraction'\n"
     ]
    }
   ],
   "source": [
    "#check that Gdrive is mounted\n",
    "\n",
    "!ls '/content/gdrive/My Drive/data/'"
   ]
  },
  {
   "cell_type": "markdown",
   "metadata": {
    "colab_type": "text",
    "id": "Ftyme-AIYFgK"
   },
   "source": [
    "#Setup SSH port forwarding"
   ]
  },
  {
   "cell_type": "code",
   "execution_count": null,
   "metadata": {
    "colab": {
     "base_uri": "https://localhost:8080/",
     "height": 275
    },
    "colab_type": "code",
    "id": "C0t3EVVaWbUJ",
    "outputId": "c7be14de-1e6a-4e22-f85c-9103c0265856"
   },
   "outputs": [
    {
     "name": "stdout",
     "output_type": "stream",
     "text": [
      "\n",
      "Creating config file /etc/ssh/sshd_config with new version\n",
      "Creating SSH2 RSA key; this may take some time ...\n",
      "2048 SHA256:2nrOTNkNP3LJqZteiFlAlToyKE4cGi/I5S5lK2y19w4 root@19aae292a5fe (RSA)\n",
      "Creating SSH2 ECDSA key; this may take some time ...\n",
      "256 SHA256:VH1FmWYgeJB5TjxTsQ+4Zan02/JMki1VC+JCwH6F1XQ root@19aae292a5fe (ECDSA)\n",
      "Creating SSH2 ED25519 key; this may take some time ...\n",
      "256 SHA256:lU9qt4cjLF3BlQ1I+67RHEKk1dwU+JCrVIlwTfpG6cA root@19aae292a5fe (ED25519)\n",
      "Created symlink /etc/systemd/system/sshd.service → /lib/systemd/system/ssh.service.\n",
      "Created symlink /etc/systemd/system/multi-user.target.wants/ssh.service → /lib/systemd/system/ssh.service.\n",
      "invoke-rc.d: could not determine current runlevel\n",
      "invoke-rc.d: policy-rc.d denied execution of start.\n",
      "username: root\n",
      "password:  Cx3PhJFeB49THXMQqB1aJbhc3GrhSw\n"
     ]
    }
   ],
   "source": [
    "#1 - setup ssh/user \n",
    "\n",
    "\n",
    "#Generate a random root password\n",
    "import random, string\n",
    "password = ''.join(random.choice(string.ascii_letters + string.digits) for i in range(30))\n",
    "\n",
    "\n",
    "#Setup sshd\n",
    "! apt-get install -qq -o=Dpkg::Use-Pty=0 openssh-server pwgen > /dev/null\n",
    "\n",
    "#Set root password\n",
    "! echo root:$password | chpasswd\n",
    "! mkdir -p /var/run/sshd\n",
    "! echo \"PermitRootLogin yes\" >> /etc/ssh/sshd_config\n",
    "! echo \"PasswordAuthentication yes\" >> /etc/ssh/sshd_config\n",
    "\n",
    "print(\"username: root\")\n",
    "print(\"password: \", password)\n",
    "\n",
    "#Run sshd\n",
    "get_ipython().system_raw('/usr/sbin/sshd -D &')"
   ]
  },
  {
   "cell_type": "code",
   "execution_count": null,
   "metadata": {
    "colab": {},
    "colab_type": "code",
    "id": "H_1iQGAtYvCq"
   },
   "outputs": [],
   "source": [
    "# 2 - Download Ngrok\n",
    "\n",
    "! wget -q -c -nc https://bin.equinox.io/c/4VmDzA7iaHb/ngrok-stable-linux-amd64.zip\n",
    "! unzip -qq -n ngrok-stable-linux-amd64.zip"
   ]
  },
  {
   "cell_type": "code",
   "execution_count": null,
   "metadata": {
    "colab": {
     "base_uri": "https://localhost:8080/",
     "height": 51
    },
    "colab_type": "code",
    "id": "68P192JwZBtF",
    "outputId": "4d91288a-dc23-484b-f0eb-4719cd754719"
   },
   "outputs": [
    {
     "name": "stdout",
     "output_type": "stream",
     "text": [
      "Get your authtoken from https://dashboard.ngrok.com/auth\n",
      "··········\n"
     ]
    }
   ],
   "source": [
    "# 3 - setup Ngrok - authtoken\n",
    "\n",
    "#Ask token\n",
    "print(\"Get your authtoken from https://dashboard.ngrok.com/auth\")\n",
    "import getpass\n",
    "authtoken = getpass.getpass()\n",
    "\n",
    "#Create tunnel\n",
    "get_ipython().system_raw('./ngrok authtoken $authtoken && ./ngrok tcp 22 &') # 1bVLy1kHkmWRqmhUEeEoDrUKech_6sRTcUMqizbwwFXt9mtMS "
   ]
  },
  {
   "cell_type": "code",
   "execution_count": null,
   "metadata": {
    "colab": {},
    "colab_type": "code",
    "id": "FsqnKf2CsEkE"
   },
   "outputs": [],
   "source": []
  },
  {
   "cell_type": "markdown",
   "metadata": {
    "colab_type": "text",
    "id": "N5sGgljXaTjL"
   },
   "source": [
    "Congratulations, you are ready to go. \n",
    "On Ngrok interface https://dashboard.ngrok.com/status you'll find the tcp address and the port \n",
    "\n",
    "connect using the following : \n",
    "\n",
    "```\n",
    "ssh root@0.tcp.ngrok.io -p [ngrok_port]\n",
    "\n",
    "> then enter the password generated previously\n",
    "\n",
    "```"
   ]
  },
  {
   "cell_type": "code",
   "execution_count": null,
   "metadata": {
    "colab": {},
    "colab_type": "code",
    "id": "No46aVvkyfrC"
   },
   "outputs": [],
   "source": [
    "# code to be run on the local computer\n",
    "ssh root@0.tcp.ngrok.io -p 10109 #ngrok_port #17455\n",
    "\n",
    "sudo apt-get install tmux && pip3 install jupyterlab && tmux\n",
    "\n",
    "\n",
    "jupyter lab --ip 0.0.0.0 --no-browser --allow-root\n",
    "\n",
    "ctrl+b + shift+\"\n",
    "\n",
    "ssh -R localhost:80:localhost:8888 jupyterlab@ssh.localhost.run"
   ]
  },
  {
   "cell_type": "code",
   "execution_count": null,
   "metadata": {
    "colab": {},
    "colab_type": "code",
    "id": "dRku1cidyfoE"
   },
   "outputs": [],
   "source": [
    "# jupyter lab --ip 0.0.0.0 --port 56784\n",
    "\n",
    "# ssh -R 80:localhost:56784 jupyterlab@ssh.localhost.run"
   ]
  },
  {
   "cell_type": "code",
   "execution_count": null,
   "metadata": {
    "colab": {},
    "colab_type": "code",
    "id": "nDHpNSUvyflT"
   },
   "outputs": [],
   "source": []
  },
  {
   "cell_type": "code",
   "execution_count": null,
   "metadata": {
    "colab": {
     "base_uri": "https://localhost:8080/",
     "height": 34
    },
    "colab_type": "code",
    "id": "ACzGZ2_MaSQi",
    "outputId": "dd0acff6-c039-4699-b022-e0f08d06d05d"
   },
   "outputs": [
    {
     "name": "stdout",
     "output_type": "stream",
     "text": [
      "^C\n"
     ]
    }
   ],
   "source": [
    "# When done, kill Ngrok\n",
    "\n",
    "!kill $(ps aux | grep './ngrok' | awk '{print $2}')"
   ]
  },
  {
   "cell_type": "code",
   "execution_count": null,
   "metadata": {
    "colab": {},
    "colab_type": "code",
    "id": "t5q2IwF651ce"
   },
   "outputs": [],
   "source": []
  },
  {
   "cell_type": "markdown",
   "metadata": {
    "colab_type": "text",
    "id": "W6KvAOdEG2MJ"
   },
   "source": [
    "<h1>About the Author:</h1> \n",
    "\n",
    "<a href=\"https://skabongo.github.io/\">Salomon Kabongo</a>, Master degree student at <a href=\"https://aimsammi.org/\">the African Master in Machine Intelligence (AMMI, Ghana)</a> his research focused on the use machine learning technique in the field of Natural Language Processing, learn more about him [here](https://skabongo.github.io/) or [twitter](https://twitter.com/SalomonKabongo1).\n",
    "\n",
    "**References :** \n",
    "- https://imadelhanafi.com/posts/google_colal_server/<br>\n",
    "- https://medium.com/@archie9211/guide-to-connect-to-google-colab-with-ssh-from-terminal-and-run-jupyter-lab-7ed60258368 <br>\n",
    "- https://github.com/vdivakar/Colab-SSH-and-GDrive\n",
    "\n",
    "Copyright &copy; 2020. This notebook and its source code are released under the terms of the <a href=\"https://www.apache.org/licenses/LICENSE-2.0\">Apache License 2.0</a>."
   ]
  }
 ],
 "metadata": {
  "accelerator": "GPU",
  "colab": {
   "collapsed_sections": [],
   "machine_shape": "hm",
   "name": "CUDA_GPU-server.ipynb",
   "provenance": [],
   "toc_visible": true
  },
  "kernelspec": {
   "display_name": "Python 3",
   "language": "python",
   "name": "python3"
  },
  "language_info": {
   "codemirror_mode": {
    "name": "ipython",
    "version": 3
   },
   "file_extension": ".py",
   "mimetype": "text/x-python",
   "name": "python",
   "nbconvert_exporter": "python",
   "pygments_lexer": "ipython3",
   "version": "3.7.4"
  }
 },
 "nbformat": 4,
 "nbformat_minor": 4
}
